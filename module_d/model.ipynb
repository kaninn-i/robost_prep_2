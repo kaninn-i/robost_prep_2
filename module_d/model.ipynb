{
 "cells": [
  {
   "cell_type": "code",
   "execution_count": 1,
   "id": "1654411b",
   "metadata": {},
   "outputs": [],
   "source": [
    "from ultralytics import YOLO\n",
    "import numpy as np\n",
    "import os\n",
    "import torch\n",
    "from sklearn.model_selection import train_test_split\n",
    "import shutil"
   ]
  },
  {
   "cell_type": "markdown",
   "id": "18b9b79d",
   "metadata": {},
   "source": [
    "Для распознования и классификации объектов буду использовать модель YOLO версии 8n(nano). Она хорошо подходит под задачу и нано вариант позволит быстро обучить модель, особенно с учетом того, что данных не такое большое количество."
   ]
  },
  {
   "cell_type": "markdown",
   "id": "78822445",
   "metadata": {},
   "source": [
    "Для разметки данных я буду пользоваться инструментом YAT. В нём можно произвести разметку для YOLO, которая мне и нужна."
   ]
  },
  {
   "cell_type": "code",
   "execution_count": 61,
   "id": "55b47f47",
   "metadata": {},
   "outputs": [
    {
     "name": "stdout",
     "output_type": "stream",
     "text": [
      "Размер датасета с картинками: 161\n",
      "Размер датасета с лейблами: 161\n"
     ]
    }
   ],
   "source": [
    "images_path = r'C:\\Users\\Илья\\Documents\\nanonano\\module_d\\data\\pictures'\n",
    "lables_path = r'C:\\Users\\Илья\\Documents\\nanonano\\module_d\\data\\lables'\n",
    "print('Размер датасета с картинками:', len(os.listdir(images_path)))\n",
    "print('Размер датасета с лейблами:', len(os.listdir(images_path)))"
   ]
  },
  {
   "cell_type": "code",
   "execution_count": 62,
   "id": "39d2df5f",
   "metadata": {},
   "outputs": [],
   "source": [
    "out_dir = r'C:\\Users\\Илья\\Documents\\nanonano\\module_d\\data'\n",
    "\n",
    "# для тренировочного набора\n",
    "os.makedirs(os.path.join(out_dir, 'train/images'), exist_ok=True) \n",
    "os.makedirs(os.path.join(out_dir, 'train/labels'), exist_ok=True) \n",
    "# для тестового набора\n",
    "os.makedirs(os.path.join(out_dir, 'test/images'), exist_ok=True) \n",
    "os.makedirs(os.path.join(out_dir, 'test/labels'), exist_ok=True) \n",
    "# для валидационного набора\n",
    "os.makedirs(os.path.join(out_dir, 'valid/images'), exist_ok=True) \n",
    "os.makedirs(os.path.join(out_dir, 'valid/labels'), exist_ok=True)"
   ]
  },
  {
   "cell_type": "code",
   "execution_count": 63,
   "id": "8ee7b658",
   "metadata": {},
   "outputs": [],
   "source": [
    "images = os.listdir(images_path)\n",
    "\n",
    "#  3 выборки: 70% train, 15% valid и 15% test\n",
    "train_img, test_img = train_test_split(images, test_size=0.3, random_state=42)\n",
    "val_img, test_img = train_test_split(test_img, test_size=0.5, random_state=42)"
   ]
  },
  {
   "cell_type": "code",
   "execution_count": 64,
   "id": "1179fb38",
   "metadata": {},
   "outputs": [],
   "source": [
    "def files_copy(files, img, labels, out_img, out_labels):\n",
    "    for file in files:\n",
    "        shutil.copy(os.path.join(img, file), os.path.join(out_img, file))\n",
    "        label_file = os.path.splitext(file)[0] + '.txt'\n",
    "        shutil.copy(os.path.join(labels, label_file), os.path.join(out_labels, label_file))\n",
    "\n",
    "    print(len(os.listdir(out_img)))\n",
    "\n"
   ]
  },
  {
   "cell_type": "code",
   "execution_count": 65,
   "id": "22d06dfd",
   "metadata": {},
   "outputs": [
    {
     "name": "stdout",
     "output_type": "stream",
     "text": [
      "153\n",
      "45\n",
      "45\n"
     ]
    }
   ],
   "source": [
    "files_copy(train_img, images_path, lables_path, os.path.join(out_dir, 'train/images'), os.path.join(out_dir, 'train/labels'))\n",
    "files_copy(test_img, images_path, lables_path, os.path.join(out_dir, 'test/images'), os.path.join(out_dir, 'test/labels'))\n",
    "files_copy(val_img, images_path, lables_path, os.path.join(out_dir, 'valid/images'), os.path.join(out_dir, 'valid/labels'))"
   ]
  },
  {
   "cell_type": "code",
   "execution_count": 66,
   "id": "b99938c6",
   "metadata": {},
   "outputs": [
    {
     "name": "stdout",
     "output_type": "stream",
     "text": [
      "cpu\n"
     ]
    }
   ],
   "source": [
    "device = torch.device('cuda' if torch.cuda.is_available() else 'cpu')\n",
    "print(device)"
   ]
  },
  {
   "cell_type": "code",
   "execution_count": 67,
   "id": "248d3c44",
   "metadata": {},
   "outputs": [],
   "source": [
    "model = YOLO('yolov8s.pt')"
   ]
  },
  {
   "cell_type": "code",
   "execution_count": 68,
   "id": "1236a2ab",
   "metadata": {},
   "outputs": [
    {
     "data": {
      "text/plain": [
       "'c:\\\\Users\\\\Илья\\\\Documents\\\\nanonano\\\\module_d'"
      ]
     },
     "execution_count": 68,
     "metadata": {},
     "output_type": "execute_result"
    }
   ],
   "source": [
    "import os\n",
    "os.getcwd()"
   ]
  },
  {
   "cell_type": "code",
   "execution_count": 70,
   "id": "5e191b2e",
   "metadata": {},
   "outputs": [
    {
     "name": "stdout",
     "output_type": "stream",
     "text": [
      "\u001b[34m\u001b[1mengine\\trainer: \u001b[0magnostic_nms=False, amp=True, augment=False, auto_augment=randaugment, batch=-1, bgr=0.0, box=7.5, cache=False, cfg=None, classes=None, close_mosaic=10, cls=0.5, conf=None, copy_paste=0.0, copy_paste_mode=flip, cos_lr=True, cutmix=0.0, data=data.yaml, degrees=0.0, deterministic=True, device=cpu, dfl=1.5, dnn=False, dropout=0.0, dynamic=False, embed=None, epochs=4, erasing=0.4, exist_ok=False, fliplr=0.5, flipud=0.0, format=torchscript, fraction=1.0, freeze=None, half=False, hsv_h=0.015, hsv_s=0.7, hsv_v=0.4, imgsz=640, int8=False, iou=0.7, keras=False, kobj=1.0, line_width=None, lr0=0.01, lrf=0.01, mask_ratio=4, max_det=300, mixup=0.0, mode=train, model=yolov8s.pt, momentum=0.937, mosaic=1.0, multi_scale=False, name=yolov8s_4epo, nbs=64, nms=False, opset=None, optimize=False, optimizer=auto, overlap_mask=True, patience=100, perspective=0.0, plots=True, pose=12.0, pretrained=True, profile=False, project=None, rect=False, resume=False, retina_masks=False, save=True, save_conf=False, save_crop=False, save_dir=c:\\Users\\\\Documents\\nanonano\\runs\\detect\\yolov8s_4epo, save_frames=False, save_json=False, save_period=-1, save_txt=False, scale=0.5, seed=0, shear=0.0, show=False, show_boxes=True, show_conf=True, show_labels=True, simplify=True, single_cls=False, source=None, split=val, stream_buffer=False, task=detect, time=None, tracker=botsort.yaml, translate=0.1, val=True, verbose=True, vid_stride=1, visualize=False, warmup_bias_lr=0.1, warmup_epochs=3.0, warmup_momentum=0.8, weight_decay=0.0005, workers=8, workspace=None\n",
      "Overriding model.yaml nc=80 with nc=7\n",
      "\n",
      "                   from  n    params  module                                       arguments                     \n",
      "  0                  -1  1       928  ultralytics.nn.modules.conv.Conv             [3, 32, 3, 2]                 \n",
      "  1                  -1  1     18560  ultralytics.nn.modules.conv.Conv             [32, 64, 3, 2]                \n",
      "  2                  -1  1     29056  ultralytics.nn.modules.block.C2f             [64, 64, 1, True]             \n",
      "  3                  -1  1     73984  ultralytics.nn.modules.conv.Conv             [64, 128, 3, 2]               \n",
      "  4                  -1  2    197632  ultralytics.nn.modules.block.C2f             [128, 128, 2, True]           \n",
      "  5                  -1  1    295424  ultralytics.nn.modules.conv.Conv             [128, 256, 3, 2]              \n",
      "  6                  -1  2    788480  ultralytics.nn.modules.block.C2f             [256, 256, 2, True]           \n",
      "  7                  -1  1   1180672  ultralytics.nn.modules.conv.Conv             [256, 512, 3, 2]              \n",
      "  8                  -1  1   1838080  ultralytics.nn.modules.block.C2f             [512, 512, 1, True]           \n",
      "  9                  -1  1    656896  ultralytics.nn.modules.block.SPPF            [512, 512, 5]                 \n",
      " 10                  -1  1         0  torch.nn.modules.upsampling.Upsample         [None, 2, 'nearest']          \n",
      " 11             [-1, 6]  1         0  ultralytics.nn.modules.conv.Concat           [1]                           \n",
      " 12                  -1  1    591360  ultralytics.nn.modules.block.C2f             [768, 256, 1]                 \n",
      " 13                  -1  1         0  torch.nn.modules.upsampling.Upsample         [None, 2, 'nearest']          \n",
      " 14             [-1, 4]  1         0  ultralytics.nn.modules.conv.Concat           [1]                           \n",
      " 15                  -1  1    148224  ultralytics.nn.modules.block.C2f             [384, 128, 1]                 \n",
      " 16                  -1  1    147712  ultralytics.nn.modules.conv.Conv             [128, 128, 3, 2]              \n",
      " 17            [-1, 12]  1         0  ultralytics.nn.modules.conv.Concat           [1]                           \n",
      " 18                  -1  1    493056  ultralytics.nn.modules.block.C2f             [384, 256, 1]                 \n",
      " 19                  -1  1    590336  ultralytics.nn.modules.conv.Conv             [256, 256, 3, 2]              \n",
      " 20             [-1, 9]  1         0  ultralytics.nn.modules.conv.Concat           [1]                           \n",
      " 21                  -1  1   1969152  ultralytics.nn.modules.block.C2f             [768, 512, 1]                 \n",
      " 22        [15, 18, 21]  1   2118757  ultralytics.nn.modules.head.Detect           [7, [128, 256, 512]]          \n",
      "Model summary: 129 layers, 11,138,309 parameters, 11,138,293 gradients, 28.7 GFLOPs\n",
      "\n",
      "Transferred 349/355 items from pretrained weights\n",
      "Freezing layer 'model.22.dfl.conv.weight'\n",
      "\u001b[34m\u001b[1mtrain: \u001b[0mFast image access  (ping: 0.10.0 ms, read: 1498.4495.6 MB/s, size: 572.0 KB)\n"
     ]
    },
    {
     "name": "stderr",
     "output_type": "stream",
     "text": [
      "\u001b[34m\u001b[1mtrain: \u001b[0mScanning C:\\Users\\Илья\\Documents\\nanonano\\module_d\\data\\train\\labels.cache... 152 images, 1 backgrounds, 0 corrupt: 100%|██████████| 153/153 [00:00<?, ?it/s]"
     ]
    },
    {
     "name": "stdout",
     "output_type": "stream",
     "text": [
      "\u001b[34m\u001b[1mAutoBatch: \u001b[0mComputing optimal batch size for imgsz=640 at 60.0% CUDA memory utilization.\n",
      "WARNING \u001b[34m\u001b[1mAutoBatch: \u001b[0mintended for CUDA devices, using default batch-size 16\n",
      "\u001b[34m\u001b[1mtrain: \u001b[0mFast image access  (ping: 0.10.0 ms, read: 1842.3504.5 MB/s, size: 577.1 KB)\n"
     ]
    },
    {
     "name": "stderr",
     "output_type": "stream",
     "text": [
      "\n",
      "\u001b[34m\u001b[1mtrain: \u001b[0mScanning C:\\Users\\Илья\\Documents\\nanonano\\module_d\\data\\train\\labels.cache... 152 images, 1 backgrounds, 0 corrupt: 100%|██████████| 153/153 [00:00<?, ?it/s]"
     ]
    },
    {
     "name": "stdout",
     "output_type": "stream",
     "text": [
      "\u001b[34m\u001b[1mval: \u001b[0mFast image access  (ping: 0.10.0 ms, read: 1966.7454.1 MB/s, size: 579.2 KB)\n"
     ]
    },
    {
     "name": "stderr",
     "output_type": "stream",
     "text": [
      "\n",
      "c:\\Users\\Илья\\Documents\\nanonano\\.venv\\Lib\\site-packages\\torch\\utils\\data\\dataloader.py:665: UserWarning: 'pin_memory' argument is set as true but no accelerator is found, then device pinned memory won't be used.\n",
      "  warnings.warn(warn_msg)\n",
      "\u001b[34m\u001b[1mval: \u001b[0mScanning C:\\Users\\Илья\\Documents\\nanonano\\module_d\\data\\valid\\labels.cache... 45 images, 0 backgrounds, 0 corrupt: 100%|██████████| 45/45 [00:00<?, ?it/s]\n",
      "c:\\Users\\Илья\\Documents\\nanonano\\.venv\\Lib\\site-packages\\torch\\utils\\data\\dataloader.py:665: UserWarning: 'pin_memory' argument is set as true but no accelerator is found, then device pinned memory won't be used.\n",
      "  warnings.warn(warn_msg)\n"
     ]
    },
    {
     "name": "stdout",
     "output_type": "stream",
     "text": [
      "Plotting labels to c:\\Users\\\\Documents\\nanonano\\runs\\detect\\yolov8s_4epo\\labels.jpg... \n",
      "\u001b[34m\u001b[1moptimizer:\u001b[0m 'optimizer=auto' found, ignoring 'lr0=0.01' and 'momentum=0.937' and determining best 'optimizer', 'lr0' and 'momentum' automatically... \n",
      "\u001b[34m\u001b[1moptimizer:\u001b[0m AdamW(lr=0.000909, momentum=0.9) with parameter groups 57 weight(decay=0.0), 64 weight(decay=0.0005), 63 bias(decay=0.0)\n",
      "Image sizes 640 train, 640 val\n",
      "Using 0 dataloader workers\n",
      "Logging results to \u001b[1mc:\\Users\\\\Documents\\nanonano\\runs\\detect\\yolov8s_4epo\u001b[0m\n",
      "Starting training for 4 epochs...\n",
      "\n",
      "      Epoch    GPU_mem   box_loss   cls_loss   dfl_loss  Instances       Size\n"
     ]
    },
    {
     "name": "stderr",
     "output_type": "stream",
     "text": [
      "        1/4         0G     0.8885      6.726      1.086         16        640: 100%|██████████| 10/10 [02:44<00:00, 16.47s/it]\n",
      "                 Class     Images  Instances      Box(P          R      mAP50  mAP50-95):   0%|          | 0/2 [00:00<?, ?it/s]"
     ]
    },
    {
     "name": "stdout",
     "output_type": "stream",
     "text": [
      "WARNING NMS time limit 3.600s exceeded\n"
     ]
    },
    {
     "name": "stderr",
     "output_type": "stream",
     "text": [
      "                 Class     Images  Instances      Box(P          R      mAP50  mAP50-95): 100%|██████████| 2/2 [00:20<00:00, 10.02s/it]"
     ]
    },
    {
     "name": "stdout",
     "output_type": "stream",
     "text": [
      "                   all         45         45       0.51      0.452      0.536      0.484\n"
     ]
    },
    {
     "name": "stderr",
     "output_type": "stream",
     "text": [
      "\n"
     ]
    },
    {
     "name": "stdout",
     "output_type": "stream",
     "text": [
      "\n",
      "      Epoch    GPU_mem   box_loss   cls_loss   dfl_loss  Instances       Size\n"
     ]
    },
    {
     "name": "stderr",
     "output_type": "stream",
     "text": [
      "        2/4         0G     0.7029      2.375      1.006         24        640: 100%|██████████| 10/10 [02:38<00:00, 15.82s/it]\n",
      "                 Class     Images  Instances      Box(P          R      mAP50  mAP50-95): 100%|██████████| 2/2 [00:16<00:00,  8.23s/it]"
     ]
    },
    {
     "name": "stdout",
     "output_type": "stream",
     "text": [
      "                   all         45         45      0.755      0.763      0.905      0.808\n"
     ]
    },
    {
     "name": "stderr",
     "output_type": "stream",
     "text": [
      "\n"
     ]
    },
    {
     "name": "stdout",
     "output_type": "stream",
     "text": [
      "\n",
      "      Epoch    GPU_mem   box_loss   cls_loss   dfl_loss  Instances       Size\n"
     ]
    },
    {
     "name": "stderr",
     "output_type": "stream",
     "text": [
      "        3/4         0G     0.6377      1.559      0.998         13        640: 100%|██████████| 10/10 [02:41<00:00, 16.16s/it]\n",
      "                 Class     Images  Instances      Box(P          R      mAP50  mAP50-95): 100%|██████████| 2/2 [00:15<00:00,  7.55s/it]"
     ]
    },
    {
     "name": "stdout",
     "output_type": "stream",
     "text": [
      "                   all         45         45      0.896      0.888       0.93      0.838\n"
     ]
    },
    {
     "name": "stderr",
     "output_type": "stream",
     "text": [
      "\n"
     ]
    },
    {
     "name": "stdout",
     "output_type": "stream",
     "text": [
      "\n",
      "      Epoch    GPU_mem   box_loss   cls_loss   dfl_loss  Instances       Size\n"
     ]
    },
    {
     "name": "stderr",
     "output_type": "stream",
     "text": [
      "        4/4         0G     0.6143      1.306     0.9852         14        640: 100%|██████████| 10/10 [02:35<00:00, 15.58s/it]\n",
      "                 Class     Images  Instances      Box(P          R      mAP50  mAP50-95): 100%|██████████| 2/2 [00:15<00:00,  7.84s/it]"
     ]
    },
    {
     "name": "stdout",
     "output_type": "stream",
     "text": [
      "                   all         45         45      0.945      0.953      0.995      0.912\n"
     ]
    },
    {
     "name": "stderr",
     "output_type": "stream",
     "text": [
      "\n"
     ]
    },
    {
     "name": "stdout",
     "output_type": "stream",
     "text": [
      "\n",
      "4 epochs completed in 0.197 hours.\n",
      "Optimizer stripped from c:\\Users\\\\Documents\\nanonano\\runs\\detect\\yolov8s_4epo\\weights\\last.pt, 22.5MB\n",
      "Optimizer stripped from c:\\Users\\\\Documents\\nanonano\\runs\\detect\\yolov8s_4epo\\weights\\best.pt, 22.5MB\n",
      "\n",
      "Validating c:\\Users\\\\Documents\\nanonano\\runs\\detect\\yolov8s_4epo\\weights\\best.pt...\n",
      "Ultralytics 8.3.127  Python-3.12.1 torch-2.7.0+cpu CPU (AMD Ryzen 5 7520U with Radeon Graphics)\n",
      "Model summary (fused): 72 layers, 11,128,293 parameters, 0 gradients, 28.5 GFLOPs\n"
     ]
    },
    {
     "name": "stderr",
     "output_type": "stream",
     "text": [
      "                 Class     Images  Instances      Box(P          R      mAP50  mAP50-95): 100%|██████████| 2/2 [00:15<00:00,  7.95s/it]\n"
     ]
    },
    {
     "name": "stdout",
     "output_type": "stream",
     "text": [
      "                   all         45         45      0.946      0.952      0.995      0.912\n",
      "                banana          7          7      0.925          1      0.995      0.923\n",
      "                carrot          7          7          1       0.68      0.995      0.735\n",
      "                  cube         13         13      0.959          1      0.995      0.892\n",
      "              cylinder          9          9      0.959          1      0.995      0.951\n",
      "                   key          3          3      0.879          1      0.995      0.995\n",
      "               pyramid          2          2          1      0.984      0.995      0.895\n",
      "                sphere          4          4      0.899          1      0.995      0.995\n",
      "Speed: 2.4ms preprocess, 281.8ms inference, 0.0ms loss, 48.0ms postprocess per image\n",
      "Results saved to \u001b[1mc:\\Users\\\\Documents\\nanonano\\runs\\detect\\yolov8s_4epo\u001b[0m\n"
     ]
    }
   ],
   "source": [
    "results = model.train(\n",
    "   data='data.yaml',\n",
    "   imgsz=640,\n",
    "   epochs=4,\n",
    "   batch=-1,\n",
    "   device = device,\n",
    "   cos_lr = True,\n",
    "   lr0 = 0.01,\n",
    "   name='yolov8s_4epo'\n",
    ")"
   ]
  }
 ],
 "metadata": {
  "kernelspec": {
   "display_name": ".venv",
   "language": "python",
   "name": "python3"
  },
  "language_info": {
   "codemirror_mode": {
    "name": "ipython",
    "version": 3
   },
   "file_extension": ".py",
   "mimetype": "text/x-python",
   "name": "python",
   "nbconvert_exporter": "python",
   "pygments_lexer": "ipython3",
   "version": "3.12.1"
  }
 },
 "nbformat": 4,
 "nbformat_minor": 5
}
